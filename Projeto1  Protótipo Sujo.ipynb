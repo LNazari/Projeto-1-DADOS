{
 "cells": [
  {
   "cell_type": "markdown",
   "metadata": {},
   "source": [
    "# Projeto 1 - Ciência dos Dados"
   ]
  },
  {
   "cell_type": "markdown",
   "metadata": {},
   "source": [
    "Nome: Lucca Nazari da Silva e Souza"
   ]
  },
  {
   "cell_type": "markdown",
   "metadata": {},
   "source": [
    "## Pergunta (s) a ser respondida"
   ]
  },
  {
   "cell_type": "markdown",
   "metadata": {},
   "source": [
    "Como os países que pertenciam a URSS foram afetados pelo fim da URSS e formação da CEI? "
   ]
  },
  {
   "cell_type": "markdown",
   "metadata": {},
   "source": [
    "## Explicação da hipótese e mecanismo"
   ]
  },
  {
   "cell_type": "markdown",
   "metadata": {},
   "source": [
    "A URSS (União das Repúblicas Socialistas Soviéticas) era uma federação de várias repúblicas lideradas pela Rússia. Criada em 1922, pelos líderes da Revolução Bolchevique, na Rússia. O modelo econômico e político adotado foi o socialismo/comunismo.\n",
    "Dessa forma, práticas como a forte intervenção estatal na economia, existência de partido único e 'equality of outcome', algo como igualdade de resultados/bens.\n",
    "\n",
    "Com base nos apontamentos do modelo, é plausível supor que após o fim da URSS e a volta da liberdade econômica aos países do bloco, a economia e outros setores sociais voltem a apresentar desenvolvimento.\n",
    "\n",
    "O mecanismo para o desenvolvimento do projeto será feito de forma que indicadores sociais que resumem o comportamento do país serão analisados em comparação com os anos em que os países estavam na URSS com os anos em que saíram da federação e se uniram na CEI (Comunidade dos Estados Independentes)."
   ]
  },
  {
   "cell_type": "code",
   "execution_count": 96,
   "metadata": {},
   "outputs": [],
   "source": [
    "%matplotlib inline\n",
    "import pandas as pd\n",
    "import numpy as np\n",
    "import math as math\n",
    "from scipy import stats\n",
    "import matplotlib.pyplot as plt"
   ]
  },
  {
   "cell_type": "markdown",
   "metadata": {},
   "source": [
    "## Bases de dados usadas"
   ]
  },
  {
   "cell_type": "markdown",
   "metadata": {},
   "source": [
    "\thttp://www.worldbank.org/\n",
    "    http://data.worldbank.org/indicator/NY.GDP.PCAP.KD\n",
    "    http://hdr.undp.org/en/\n",
    "    http://www.ilo.org/global/lang--en/index.htm\n",
    "    "
   ]
  },
  {
   "cell_type": "markdown",
   "metadata": {},
   "source": [
    "## Análise de dados"
   ]
  },
  {
   "cell_type": "markdown",
   "metadata": {},
   "source": [
    "Inicialmente, é necessário importar os dados que servirão de base para a análise em questão.\n",
    "Foram selecionadas os índices de 'IDH' e 'Income', pois fornecem um panorama geral da condição econômica do país, que satisfaz a condição inicial para responder a hipótese levantada."
   ]
  },
  {
   "cell_type": "code",
   "execution_count": 97,
   "metadata": {
    "scrolled": true
   },
   "outputs": [],
   "source": [
    "idh= pd.read_excel('hdi_human_development_index.xlsx')\n",
    "income= pd.read_excel('income_per_person_gdppercapita_ppp_inflation_adjusted.xlsx')"
   ]
  },
  {
   "cell_type": "code",
   "execution_count": 98,
   "metadata": {},
   "outputs": [],
   "source": [
    "idh= idh.set_index('country')\n",
    "income= income.set_index('country')"
   ]
  },
  {
   "cell_type": "markdown",
   "metadata": {},
   "source": [
    "A seguir, será feito o join dos arquivos com os índices, de forma que facilitará o uso dos dados."
   ]
  },
  {
   "cell_type": "code",
   "execution_count": 99,
   "metadata": {
    "scrolled": true
   },
   "outputs": [
    {
     "data": {
      "text/html": [
       "<div>\n",
       "<style scoped>\n",
       "    .dataframe tbody tr th:only-of-type {\n",
       "        vertical-align: middle;\n",
       "    }\n",
       "\n",
       "    .dataframe tbody tr th {\n",
       "        vertical-align: top;\n",
       "    }\n",
       "\n",
       "    .dataframe thead th {\n",
       "        text-align: right;\n",
       "    }\n",
       "</style>\n",
       "<table border=\"1\" class=\"dataframe\">\n",
       "  <thead>\n",
       "    <tr style=\"text-align: right;\">\n",
       "      <th></th>\n",
       "      <th>1990_idh</th>\n",
       "      <th>1991_idh</th>\n",
       "      <th>1992_idh</th>\n",
       "      <th>1993_idh</th>\n",
       "      <th>1994_idh</th>\n",
       "      <th>1995_idh</th>\n",
       "      <th>1996_idh</th>\n",
       "      <th>1997_idh</th>\n",
       "      <th>1998_idh</th>\n",
       "      <th>1999_idh</th>\n",
       "      <th>...</th>\n",
       "      <th>2031</th>\n",
       "      <th>2032</th>\n",
       "      <th>2033</th>\n",
       "      <th>2034</th>\n",
       "      <th>2035</th>\n",
       "      <th>2036</th>\n",
       "      <th>2037</th>\n",
       "      <th>2038</th>\n",
       "      <th>2039</th>\n",
       "      <th>2040</th>\n",
       "    </tr>\n",
       "    <tr>\n",
       "      <th>country</th>\n",
       "      <th></th>\n",
       "      <th></th>\n",
       "      <th></th>\n",
       "      <th></th>\n",
       "      <th></th>\n",
       "      <th></th>\n",
       "      <th></th>\n",
       "      <th></th>\n",
       "      <th></th>\n",
       "      <th></th>\n",
       "      <th></th>\n",
       "      <th></th>\n",
       "      <th></th>\n",
       "      <th></th>\n",
       "      <th></th>\n",
       "      <th></th>\n",
       "      <th></th>\n",
       "      <th></th>\n",
       "      <th></th>\n",
       "      <th></th>\n",
       "      <th></th>\n",
       "    </tr>\n",
       "  </thead>\n",
       "  <tbody>\n",
       "    <tr>\n",
       "      <th>Afghanistan</th>\n",
       "      <td>0.295</td>\n",
       "      <td>0.300</td>\n",
       "      <td>0.309</td>\n",
       "      <td>0.305</td>\n",
       "      <td>0.300</td>\n",
       "      <td>0.324</td>\n",
       "      <td>0.328</td>\n",
       "      <td>0.332</td>\n",
       "      <td>0.335</td>\n",
       "      <td>0.338</td>\n",
       "      <td>...</td>\n",
       "      <td>2420</td>\n",
       "      <td>2470</td>\n",
       "      <td>2520</td>\n",
       "      <td>2580</td>\n",
       "      <td>2640</td>\n",
       "      <td>2700</td>\n",
       "      <td>2760</td>\n",
       "      <td>2820</td>\n",
       "      <td>2880</td>\n",
       "      <td>2940</td>\n",
       "    </tr>\n",
       "    <tr>\n",
       "      <th>Albania</th>\n",
       "      <td>0.635</td>\n",
       "      <td>0.618</td>\n",
       "      <td>0.603</td>\n",
       "      <td>0.608</td>\n",
       "      <td>0.616</td>\n",
       "      <td>0.628</td>\n",
       "      <td>0.637</td>\n",
       "      <td>0.636</td>\n",
       "      <td>0.646</td>\n",
       "      <td>0.656</td>\n",
       "      <td>...</td>\n",
       "      <td>18500</td>\n",
       "      <td>18900</td>\n",
       "      <td>19300</td>\n",
       "      <td>19700</td>\n",
       "      <td>20200</td>\n",
       "      <td>20600</td>\n",
       "      <td>21100</td>\n",
       "      <td>21500</td>\n",
       "      <td>22000</td>\n",
       "      <td>22500</td>\n",
       "    </tr>\n",
       "    <tr>\n",
       "      <th>Algeria</th>\n",
       "      <td>0.577</td>\n",
       "      <td>0.581</td>\n",
       "      <td>0.587</td>\n",
       "      <td>0.591</td>\n",
       "      <td>0.595</td>\n",
       "      <td>0.600</td>\n",
       "      <td>0.609</td>\n",
       "      <td>0.617</td>\n",
       "      <td>0.627</td>\n",
       "      <td>0.636</td>\n",
       "      <td>...</td>\n",
       "      <td>15600</td>\n",
       "      <td>15900</td>\n",
       "      <td>16300</td>\n",
       "      <td>16700</td>\n",
       "      <td>17000</td>\n",
       "      <td>17400</td>\n",
       "      <td>17800</td>\n",
       "      <td>18200</td>\n",
       "      <td>18600</td>\n",
       "      <td>19000</td>\n",
       "    </tr>\n",
       "    <tr>\n",
       "      <th>Andorra</th>\n",
       "      <td>NaN</td>\n",
       "      <td>NaN</td>\n",
       "      <td>NaN</td>\n",
       "      <td>NaN</td>\n",
       "      <td>NaN</td>\n",
       "      <td>NaN</td>\n",
       "      <td>NaN</td>\n",
       "      <td>NaN</td>\n",
       "      <td>NaN</td>\n",
       "      <td>NaN</td>\n",
       "      <td>...</td>\n",
       "      <td>73200</td>\n",
       "      <td>74800</td>\n",
       "      <td>76400</td>\n",
       "      <td>78100</td>\n",
       "      <td>79900</td>\n",
       "      <td>81600</td>\n",
       "      <td>83400</td>\n",
       "      <td>85300</td>\n",
       "      <td>87200</td>\n",
       "      <td>89100</td>\n",
       "    </tr>\n",
       "    <tr>\n",
       "      <th>Angola</th>\n",
       "      <td>NaN</td>\n",
       "      <td>NaN</td>\n",
       "      <td>NaN</td>\n",
       "      <td>NaN</td>\n",
       "      <td>NaN</td>\n",
       "      <td>NaN</td>\n",
       "      <td>NaN</td>\n",
       "      <td>NaN</td>\n",
       "      <td>NaN</td>\n",
       "      <td>0.382</td>\n",
       "      <td>...</td>\n",
       "      <td>6270</td>\n",
       "      <td>6410</td>\n",
       "      <td>6550</td>\n",
       "      <td>6700</td>\n",
       "      <td>6850</td>\n",
       "      <td>7000</td>\n",
       "      <td>7150</td>\n",
       "      <td>7310</td>\n",
       "      <td>7470</td>\n",
       "      <td>7640</td>\n",
       "    </tr>\n",
       "  </tbody>\n",
       "</table>\n",
       "<p>5 rows × 267 columns</p>\n",
       "</div>"
      ],
      "text/plain": [
       "             1990_idh  1991_idh  1992_idh  1993_idh  1994_idh  1995_idh  \\\n",
       "country                                                                   \n",
       "Afghanistan     0.295     0.300     0.309     0.305     0.300     0.324   \n",
       "Albania         0.635     0.618     0.603     0.608     0.616     0.628   \n",
       "Algeria         0.577     0.581     0.587     0.591     0.595     0.600   \n",
       "Andorra           NaN       NaN       NaN       NaN       NaN       NaN   \n",
       "Angola            NaN       NaN       NaN       NaN       NaN       NaN   \n",
       "\n",
       "             1996_idh  1997_idh  1998_idh  1999_idh  ...     2031   2032  \\\n",
       "country                                              ...                   \n",
       "Afghanistan     0.328     0.332     0.335     0.338  ...     2420   2470   \n",
       "Albania         0.637     0.636     0.646     0.656  ...    18500  18900   \n",
       "Algeria         0.609     0.617     0.627     0.636  ...    15600  15900   \n",
       "Andorra           NaN       NaN       NaN       NaN  ...    73200  74800   \n",
       "Angola            NaN       NaN       NaN     0.382  ...     6270   6410   \n",
       "\n",
       "              2033   2034   2035   2036   2037   2038   2039   2040  \n",
       "country                                                              \n",
       "Afghanistan   2520   2580   2640   2700   2760   2820   2880   2940  \n",
       "Albania      19300  19700  20200  20600  21100  21500  22000  22500  \n",
       "Algeria      16300  16700  17000  17400  17800  18200  18600  19000  \n",
       "Andorra      76400  78100  79900  81600  83400  85300  87200  89100  \n",
       "Angola        6550   6700   6850   7000   7150   7310   7470   7640  \n",
       "\n",
       "[5 rows x 267 columns]"
      ]
     },
     "execution_count": 99,
     "metadata": {},
     "output_type": "execute_result"
    }
   ],
   "source": [
    "data= idh.join(income,how='inner', lsuffix= '_idh', rsuffix='_income')\n",
    "data.head()"
   ]
  },
  {
   "cell_type": "markdown",
   "metadata": {},
   "source": [
    "Agora, serão definidas variáveis com as partes de interesse da 'data' em que foi feito o join. \n"
   ]
  },
  {
   "cell_type": "code",
   "execution_count": 100,
   "metadata": {
    "scrolled": false
   },
   "outputs": [],
   "source": [
    "idh= data.loc[:,['1990_idh','2015_idh']]"
   ]
  },
  {
   "cell_type": "code",
   "execution_count": 101,
   "metadata": {
    "scrolled": true
   },
   "outputs": [],
   "source": [
    "idh_urss = idh.loc[('Armenia', 'Azerbaijan', 'Belarus', 'Kazakhstan', 'Kyrgyz Republic', 'Moldova', 'Russia', 'Tajikistan', 'Turkmenistan', 'Uzbekistan'),['1990_idh','2015_idh']]"
   ]
  },
  {
   "cell_type": "code",
   "execution_count": 103,
   "metadata": {},
   "outputs": [],
   "source": [
    "idh_eu= idh.loc[('Belgium','Bulgaria','Croatia','Czech Republic','Denmark','France','Germany','Greece','Luxembourg','Poland','Portugal','Spain','Switzerland','United Kingdom'),:]"
   ]
  },
  {
   "cell_type": "code",
   "execution_count": 104,
   "metadata": {},
   "outputs": [],
   "source": [
    "income= data.loc[:,['1990_income','2015_income']]"
   ]
  },
  {
   "cell_type": "code",
   "execution_count": 105,
   "metadata": {},
   "outputs": [],
   "source": [
    "income_urss= income.loc[('Armenia', 'Azerbaijan', 'Belarus', 'Kazakhstan', 'Kyrgyz Republic', 'Moldova', 'Russia', 'Tajikistan', 'Turkmenistan', 'Uzbekistan'),:]"
   ]
  },
  {
   "cell_type": "code",
   "execution_count": 106,
   "metadata": {},
   "outputs": [],
   "source": [
    "income_eu= income.loc[('Belgium','Bulgaria','Croatia','Czech Republic','Denmark','France','Germany','Greece','Luxembourg','Poland','Portugal','Spain','Switzerland','United Kingdom'),:]"
   ]
  },
  {
   "cell_type": "markdown",
   "metadata": {},
   "source": [
    "Em relação aos anos, as variáveis esolhidas agrupam os dados dos anos de 1990 e 2015, ou seja ano anterior do fim da URSS (1991) e os dados mais recentes disponíveis, para mostrar o desenvolvimento das econonomias nesse intervalo de tempo. \n",
    "\n",
    "Assim, as variáveis definidas unem uma permutação dos anos citados com os índices ('IDH' e Income) para o grupo dos países da ex-URSS e para os membros da UE (União Europeia).\n",
    "\n",
    "\n",
    "O Income refere-se à um índice que mede a renda per capita do país, logo, fornece um indicador geral do desenvolvimento econômico do país.\n",
    "\n",
    "O IDH (Índice de Desenvolvimento Humano) refere-se à um índice que toma como base o tripé dos indicadores de PIB per capita, Grau de Escolaridade e Expectativa de Vida. Portanto, o IDH consegue agregar à seu valor, o desenvolvimento social, que não está diretamente explícito no Income.\n",
    "\n"
   ]
  },
  {
   "cell_type": "code",
   "execution_count": 107,
   "metadata": {},
   "outputs": [
    {
     "data": {
      "text/plain": [
       "0.6566666666666666"
      ]
     },
     "execution_count": 107,
     "metadata": {},
     "output_type": "execute_result"
    }
   ],
   "source": [
    "idh_urss['1990_idh'].mean()"
   ]
  },
  {
   "cell_type": "code",
   "execution_count": 108,
   "metadata": {},
   "outputs": [
    {
     "data": {
      "text/plain": [
       "0.7279"
      ]
     },
     "execution_count": 108,
     "metadata": {},
     "output_type": "execute_result"
    }
   ],
   "source": [
    "idh_urss['2015_idh'].mean()"
   ]
  },
  {
   "cell_type": "code",
   "execution_count": 109,
   "metadata": {},
   "outputs": [
    {
     "data": {
      "text/plain": [
       "0.76"
      ]
     },
     "execution_count": 109,
     "metadata": {},
     "output_type": "execute_result"
    }
   ],
   "source": [
    "idh_eu['1990_idh'].mean()"
   ]
  },
  {
   "cell_type": "code",
   "execution_count": 110,
   "metadata": {},
   "outputs": [
    {
     "data": {
      "text/plain": [
       "0.8812857142857143"
      ]
     },
     "execution_count": 110,
     "metadata": {},
     "output_type": "execute_result"
    }
   ],
   "source": [
    "idh_eu['2015_idh'].mean()"
   ]
  },
  {
   "cell_type": "code",
   "execution_count": 168,
   "metadata": {},
   "outputs": [
    {
     "data": {
      "text/plain": [
       "7928.0"
      ]
     },
     "execution_count": 168,
     "metadata": {},
     "output_type": "execute_result"
    }
   ],
   "source": [
    "income_urss['1990_income'].mean()"
   ]
  },
  {
   "cell_type": "code",
   "execution_count": 112,
   "metadata": {},
   "outputs": [
    {
     "data": {
      "text/plain": [
       "12101.0"
      ]
     },
     "execution_count": 112,
     "metadata": {},
     "output_type": "execute_result"
    }
   ],
   "source": [
    "income_urss['2015_income'].mean()"
   ]
  },
  {
   "cell_type": "code",
   "execution_count": 113,
   "metadata": {},
   "outputs": [
    {
     "data": {
      "text/plain": [
       "27128.571428571428"
      ]
     },
     "execution_count": 113,
     "metadata": {},
     "output_type": "execute_result"
    }
   ],
   "source": [
    "income_eu['1990_income'].mean()"
   ]
  },
  {
   "cell_type": "code",
   "execution_count": 114,
   "metadata": {},
   "outputs": [
    {
     "data": {
      "text/plain": [
       "38228.57142857143"
      ]
     },
     "execution_count": 114,
     "metadata": {},
     "output_type": "execute_result"
    }
   ],
   "source": [
    "income_eu['2015_income'].mean()"
   ]
  },
  {
   "cell_type": "code",
   "execution_count": 115,
   "metadata": {},
   "outputs": [
    {
     "data": {
      "text/plain": [
       "35000.0"
      ]
     },
     "execution_count": 115,
     "metadata": {},
     "output_type": "execute_result"
    }
   ],
   "source": [
    "income_eu['2015_income'].median()"
   ]
  },
  {
   "cell_type": "markdown",
   "metadata": {},
   "source": [
    "O bloco da União Europeia foi escolhido para ser analisado, pois serve como uma boa base de referência para comparar o desenvolvimento dos dados dos atuais membros da CEI, visto que a União Europeia é, para muitos, um exemplo muito positivo de desenvolvimento social e econômico que é evidente em seus índices.\n",
    "\n",
    "Para realizar tal comparação é possível estabelecer uma relação de crescimento relativo para cada 'bloco' entre os anos destacados no estudo (1990-2015). O resultado é uma porcentagem de crescimento de cada bloco em relação ao período descrito."
   ]
  },
  {
   "cell_type": "code",
   "execution_count": 116,
   "metadata": {},
   "outputs": [
    {
     "data": {
      "text/plain": [
       "0.09786142785181118"
      ]
     },
     "execution_count": 116,
     "metadata": {},
     "output_type": "execute_result"
    }
   ],
   "source": [
    "cr_urss_idh= idh_urss['1990_idh'].mean()/ idh_urss['2015_idh'].mean()\n",
    "1-cr_urss_idh "
   ]
  },
  {
   "cell_type": "code",
   "execution_count": 117,
   "metadata": {},
   "outputs": [
    {
     "data": {
      "text/plain": [
       "0.1376236018803696"
      ]
     },
     "execution_count": 117,
     "metadata": {},
     "output_type": "execute_result"
    }
   ],
   "source": [
    "cr_eu_idh= idh_eu['1990_idh'].mean()/idh_eu['2015_idh'].mean()\n",
    "1- cr_eu_idh"
   ]
  },
  {
   "cell_type": "code",
   "execution_count": 118,
   "metadata": {},
   "outputs": [
    {
     "data": {
      "text/plain": [
       "0.3448475332617139"
      ]
     },
     "execution_count": 118,
     "metadata": {},
     "output_type": "execute_result"
    }
   ],
   "source": [
    "cr_urss_income = income_urss['1990_income'].mean()/income_urss['2015_income'].mean()\n",
    "1-cr_urss_income"
   ]
  },
  {
   "cell_type": "code",
   "execution_count": 119,
   "metadata": {},
   "outputs": [
    {
     "data": {
      "text/plain": [
       "0.29035874439461884"
      ]
     },
     "execution_count": 119,
     "metadata": {},
     "output_type": "execute_result"
    }
   ],
   "source": [
    "cr_eu_income= income_eu['1990_income'].mean()/income_eu['2015_income'].mean()\n",
    "1-cr_eu_income"
   ]
  },
  {
   "cell_type": "markdown",
   "metadata": {},
   "source": [
    "No entanto, ao comparar o PIB per capita dos ex membros da URSS com os membros da UE, é evidente um crescimento proporicionalmente maior dos primeiros. Isso porque, o crescimento efetivo do PIB, em relação a população, foi maior nos ex-membros da URSS do que na UE. \n",
    "\n",
    "É certo que Grau de Escolaridade e Expectativa de Vida (indicadores presentes no IDH) são indicadores que demoram mais tempo para serem significativamente alterados, pois as os investimentos na educação e na saúde trazem grandes benefícios a longo prazo.\n",
    "\n",
    "É evidente que o IDH da Europa cresceu mais que dos países saídos da URSS, pois as condições econômicas dos membros da UE, de maneira geral, eram muito melhores que os ex-membros da URSS logo, é condizente que tenha melhor IDH.\n",
    "Para tanto, é necessário analisar o indicador de Renda per capita isoladamente, pois nos dá uma melhor ideia do crescimento do país e sua consequente melhora indireta para a população.\n",
    "\n"
   ]
  },
  {
   "cell_type": "code",
   "execution_count": 265,
   "metadata": {
    "scrolled": true
   },
   "outputs": [
    {
     "data": {
      "text/plain": [
       "Text(0, 0.5, 'IDH')"
      ]
     },
     "execution_count": 265,
     "metadata": {},
     "output_type": "execute_result"
    },
    {
     "data": {
      "image/png": "[encoded data removed]",
      "text/plain": [
       "<Figure size 432x288 with 1 Axes>"
      ]
     },
     "metadata": {
      "needs_background": "light"
     },
     "output_type": "display_data"
    }
   ],
   "source": [
    "idh_urss.plot(kind='bar', title='IDH - URSS (1990 e 2015)')\n",
    "plt.ylabel('IDH')"
   ]
  },
  {
   "cell_type": "markdown",
   "metadata": {},
   "source": [
    "O gráfico acima apresenta o IDH dos ex-membros da URSS nos anos de 1990 (azul) e em 2015 (laranja). É evidente uma grande melhora nesse índice."
   ]
  },
  {
   "cell_type": "code",
   "execution_count": null,
   "metadata": {
    "scrolled": true
   },
   "outputs": [],
   "source": []
  },
  {
   "cell_type": "code",
   "execution_count": 268,
   "metadata": {
    "scrolled": true
   },
   "outputs": [
    {
     "data": {
      "text/plain": [
       "Text(0, 0.5, 'Income (US$)')"
      ]
     },
     "execution_count": 268,
     "metadata": {},
     "output_type": "execute_result"
    },
    {
     "data": {
      "image/png": "[encoded data removed]",
      "text/plain": [
       "<Figure size 432x288 with 1 Axes>"
      ]
     },
     "metadata": {
      "needs_background": "light"
     },
     "output_type": "display_data"
    }
   ],
   "source": [
    "income_urss.plot(kind='bar', title='Income - URSS (1990 e 2015)')\n",
    "plt.ylabel('Income (US$)')"
   ]
  },
  {
   "cell_type": "markdown",
   "metadata": {},
   "source": [
    "Gráfico do Income dos países da atual CEI nos anos de 1990 e 2015."
   ]
  },
  {
   "cell_type": "code",
   "execution_count": 125,
   "metadata": {},
   "outputs": [
    {
     "data": {
      "text/html": [
       "<div>\n",
       "<style scoped>\n",
       "    .dataframe tbody tr th:only-of-type {\n",
       "        vertical-align: middle;\n",
       "    }\n",
       "\n",
       "    .dataframe tbody tr th {\n",
       "        vertical-align: top;\n",
       "    }\n",
       "\n",
       "    .dataframe thead th {\n",
       "        text-align: right;\n",
       "    }\n",
       "</style>\n",
       "<table border=\"1\" class=\"dataframe\">\n",
       "  <thead>\n",
       "    <tr style=\"text-align: right;\">\n",
       "      <th></th>\n",
       "      <th>1990_income</th>\n",
       "      <th>1991_income</th>\n",
       "      <th>1992_income</th>\n",
       "      <th>1993_income</th>\n",
       "      <th>1994_income</th>\n",
       "      <th>1995_income</th>\n",
       "      <th>1996_income</th>\n",
       "      <th>1997_income</th>\n",
       "      <th>1998_income</th>\n",
       "      <th>1999_income</th>\n",
       "      <th>...</th>\n",
       "      <th>2005_income</th>\n",
       "      <th>2006_income</th>\n",
       "      <th>2007_income</th>\n",
       "      <th>2008_income</th>\n",
       "      <th>2009_income</th>\n",
       "      <th>2010_income</th>\n",
       "      <th>2011_income</th>\n",
       "      <th>2012_income</th>\n",
       "      <th>2013_income</th>\n",
       "      <th>2014_income</th>\n",
       "    </tr>\n",
       "    <tr>\n",
       "      <th>country</th>\n",
       "      <th></th>\n",
       "      <th></th>\n",
       "      <th></th>\n",
       "      <th></th>\n",
       "      <th></th>\n",
       "      <th></th>\n",
       "      <th></th>\n",
       "      <th></th>\n",
       "      <th></th>\n",
       "      <th></th>\n",
       "      <th></th>\n",
       "      <th></th>\n",
       "      <th></th>\n",
       "      <th></th>\n",
       "      <th></th>\n",
       "      <th></th>\n",
       "      <th></th>\n",
       "      <th></th>\n",
       "      <th></th>\n",
       "      <th></th>\n",
       "      <th></th>\n",
       "    </tr>\n",
       "  </thead>\n",
       "  <tbody>\n",
       "    <tr>\n",
       "      <th>Armenia</th>\n",
       "      <td>3740</td>\n",
       "      <td>3340</td>\n",
       "      <td>1980</td>\n",
       "      <td>1850</td>\n",
       "      <td>1990</td>\n",
       "      <td>2170</td>\n",
       "      <td>2340</td>\n",
       "      <td>2440</td>\n",
       "      <td>2640</td>\n",
       "      <td>2740</td>\n",
       "      <td>...</td>\n",
       "      <td>5360</td>\n",
       "      <td>6110</td>\n",
       "      <td>7010</td>\n",
       "      <td>7560</td>\n",
       "      <td>6530</td>\n",
       "      <td>6700</td>\n",
       "      <td>7020</td>\n",
       "      <td>7510</td>\n",
       "      <td>7730</td>\n",
       "      <td>7970</td>\n",
       "    </tr>\n",
       "    <tr>\n",
       "      <th>Azerbaijan</th>\n",
       "      <td>8510</td>\n",
       "      <td>8320</td>\n",
       "      <td>6350</td>\n",
       "      <td>4810</td>\n",
       "      <td>3810</td>\n",
       "      <td>3320</td>\n",
       "      <td>3330</td>\n",
       "      <td>3490</td>\n",
       "      <td>3800</td>\n",
       "      <td>4050</td>\n",
       "      <td>...</td>\n",
       "      <td>8050</td>\n",
       "      <td>10700</td>\n",
       "      <td>13200</td>\n",
       "      <td>14400</td>\n",
       "      <td>15400</td>\n",
       "      <td>16000</td>\n",
       "      <td>15800</td>\n",
       "      <td>15900</td>\n",
       "      <td>16600</td>\n",
       "      <td>16700</td>\n",
       "    </tr>\n",
       "    <tr>\n",
       "      <th>Belarus</th>\n",
       "      <td>8350</td>\n",
       "      <td>8250</td>\n",
       "      <td>7440</td>\n",
       "      <td>6860</td>\n",
       "      <td>6070</td>\n",
       "      <td>5450</td>\n",
       "      <td>5620</td>\n",
       "      <td>6290</td>\n",
       "      <td>6850</td>\n",
       "      <td>7120</td>\n",
       "      <td>...</td>\n",
       "      <td>11200</td>\n",
       "      <td>12400</td>\n",
       "      <td>13500</td>\n",
       "      <td>15000</td>\n",
       "      <td>15000</td>\n",
       "      <td>16200</td>\n",
       "      <td>17200</td>\n",
       "      <td>17500</td>\n",
       "      <td>17700</td>\n",
       "      <td>17900</td>\n",
       "    </tr>\n",
       "    <tr>\n",
       "      <th>Kazakhstan</th>\n",
       "      <td>13100</td>\n",
       "      <td>11500</td>\n",
       "      <td>10900</td>\n",
       "      <td>10000</td>\n",
       "      <td>8870</td>\n",
       "      <td>8280</td>\n",
       "      <td>8450</td>\n",
       "      <td>8730</td>\n",
       "      <td>8720</td>\n",
       "      <td>9040</td>\n",
       "      <td>...</td>\n",
       "      <td>16000</td>\n",
       "      <td>17500</td>\n",
       "      <td>18900</td>\n",
       "      <td>19300</td>\n",
       "      <td>19000</td>\n",
       "      <td>20100</td>\n",
       "      <td>21300</td>\n",
       "      <td>22000</td>\n",
       "      <td>23000</td>\n",
       "      <td>23600</td>\n",
       "    </tr>\n",
       "    <tr>\n",
       "      <th>Kyrgyz Republic</th>\n",
       "      <td>3480</td>\n",
       "      <td>3150</td>\n",
       "      <td>2680</td>\n",
       "      <td>2270</td>\n",
       "      <td>1810</td>\n",
       "      <td>1700</td>\n",
       "      <td>1790</td>\n",
       "      <td>1940</td>\n",
       "      <td>1950</td>\n",
       "      <td>1990</td>\n",
       "      <td>...</td>\n",
       "      <td>2370</td>\n",
       "      <td>2420</td>\n",
       "      <td>2600</td>\n",
       "      <td>2790</td>\n",
       "      <td>2840</td>\n",
       "      <td>2790</td>\n",
       "      <td>2920</td>\n",
       "      <td>2870</td>\n",
       "      <td>3120</td>\n",
       "      <td>3180</td>\n",
       "    </tr>\n",
       "    <tr>\n",
       "      <th>Moldova</th>\n",
       "      <td>6460</td>\n",
       "      <td>5420</td>\n",
       "      <td>3840</td>\n",
       "      <td>3800</td>\n",
       "      <td>2630</td>\n",
       "      <td>2610</td>\n",
       "      <td>2460</td>\n",
       "      <td>2510</td>\n",
       "      <td>2340</td>\n",
       "      <td>2270</td>\n",
       "      <td>...</td>\n",
       "      <td>3310</td>\n",
       "      <td>3480</td>\n",
       "      <td>3590</td>\n",
       "      <td>3880</td>\n",
       "      <td>3650</td>\n",
       "      <td>3910</td>\n",
       "      <td>4180</td>\n",
       "      <td>4150</td>\n",
       "      <td>4540</td>\n",
       "      <td>4760</td>\n",
       "    </tr>\n",
       "    <tr>\n",
       "      <th>Russia</th>\n",
       "      <td>20600</td>\n",
       "      <td>19600</td>\n",
       "      <td>16700</td>\n",
       "      <td>15300</td>\n",
       "      <td>13400</td>\n",
       "      <td>12800</td>\n",
       "      <td>12400</td>\n",
       "      <td>12600</td>\n",
       "      <td>11900</td>\n",
       "      <td>12700</td>\n",
       "      <td>...</td>\n",
       "      <td>19300</td>\n",
       "      <td>21000</td>\n",
       "      <td>22800</td>\n",
       "      <td>24000</td>\n",
       "      <td>22100</td>\n",
       "      <td>23100</td>\n",
       "      <td>24100</td>\n",
       "      <td>24900</td>\n",
       "      <td>25100</td>\n",
       "      <td>24900</td>\n",
       "    </tr>\n",
       "    <tr>\n",
       "      <th>Tajikistan</th>\n",
       "      <td>3650</td>\n",
       "      <td>3310</td>\n",
       "      <td>2310</td>\n",
       "      <td>1900</td>\n",
       "      <td>1470</td>\n",
       "      <td>1270</td>\n",
       "      <td>1040</td>\n",
       "      <td>1050</td>\n",
       "      <td>1090</td>\n",
       "      <td>1110</td>\n",
       "      <td>...</td>\n",
       "      <td>1710</td>\n",
       "      <td>1790</td>\n",
       "      <td>1890</td>\n",
       "      <td>1990</td>\n",
       "      <td>2020</td>\n",
       "      <td>2110</td>\n",
       "      <td>2210</td>\n",
       "      <td>2320</td>\n",
       "      <td>2440</td>\n",
       "      <td>2550</td>\n",
       "    </tr>\n",
       "    <tr>\n",
       "      <th>Turkmenistan</th>\n",
       "      <td>8320</td>\n",
       "      <td>7710</td>\n",
       "      <td>6370</td>\n",
       "      <td>6290</td>\n",
       "      <td>5070</td>\n",
       "      <td>4600</td>\n",
       "      <td>4820</td>\n",
       "      <td>4200</td>\n",
       "      <td>4440</td>\n",
       "      <td>5110</td>\n",
       "      <td>...</td>\n",
       "      <td>6500</td>\n",
       "      <td>7130</td>\n",
       "      <td>7820</td>\n",
       "      <td>8850</td>\n",
       "      <td>9250</td>\n",
       "      <td>9940</td>\n",
       "      <td>11200</td>\n",
       "      <td>12200</td>\n",
       "      <td>13200</td>\n",
       "      <td>14300</td>\n",
       "    </tr>\n",
       "    <tr>\n",
       "      <th>Uzbekistan</th>\n",
       "      <td>3070</td>\n",
       "      <td>2990</td>\n",
       "      <td>2600</td>\n",
       "      <td>2480</td>\n",
       "      <td>2300</td>\n",
       "      <td>2240</td>\n",
       "      <td>2240</td>\n",
       "      <td>2310</td>\n",
       "      <td>2370</td>\n",
       "      <td>2450</td>\n",
       "      <td>...</td>\n",
       "      <td>3070</td>\n",
       "      <td>3250</td>\n",
       "      <td>3530</td>\n",
       "      <td>3780</td>\n",
       "      <td>4020</td>\n",
       "      <td>4240</td>\n",
       "      <td>4470</td>\n",
       "      <td>4770</td>\n",
       "      <td>5070</td>\n",
       "      <td>5370</td>\n",
       "    </tr>\n",
       "  </tbody>\n",
       "</table>\n",
       "<p>10 rows × 25 columns</p>\n",
       "</div>"
      ],
      "text/plain": [
       "                 1990_income  1991_income  1992_income  1993_income  \\\n",
       "country                                                               \n",
       "Armenia                 3740         3340         1980         1850   \n",
       "Azerbaijan              8510         8320         6350         4810   \n",
       "Belarus                 8350         8250         7440         6860   \n",
       "Kazakhstan             13100        11500        10900        10000   \n",
       "Kyrgyz Republic         3480         3150         2680         2270   \n",
       "Moldova                 6460         5420         3840         3800   \n",
       "Russia                 20600        19600        16700        15300   \n",
       "Tajikistan              3650         3310         2310         1900   \n",
       "Turkmenistan            8320         7710         6370         6290   \n",
       "Uzbekistan              3070         2990         2600         2480   \n",
       "\n",
       "                 1994_income  1995_income  1996_income  1997_income  \\\n",
       "country                                                               \n",
       "Armenia                 1990         2170         2340         2440   \n",
       "Azerbaijan              3810         3320         3330         3490   \n",
       "Belarus                 6070         5450         5620         6290   \n",
       "Kazakhstan              8870         8280         8450         8730   \n",
       "Kyrgyz Republic         1810         1700         1790         1940   \n",
       "Moldova                 2630         2610         2460         2510   \n",
       "Russia                 13400        12800        12400        12600   \n",
       "Tajikistan              1470         1270         1040         1050   \n",
       "Turkmenistan            5070         4600         4820         4200   \n",
       "Uzbekistan              2300         2240         2240         2310   \n",
       "\n",
       "                 1998_income  1999_income     ...       2005_income  \\\n",
       "country                                       ...                     \n",
       "Armenia                 2640         2740     ...              5360   \n",
       "Azerbaijan              3800         4050     ...              8050   \n",
       "Belarus                 6850         7120     ...             11200   \n",
       "Kazakhstan              8720         9040     ...             16000   \n",
       "Kyrgyz Republic         1950         1990     ...              2370   \n",
       "Moldova                 2340         2270     ...              3310   \n",
       "Russia                 11900        12700     ...             19300   \n",
       "Tajikistan              1090         1110     ...              1710   \n",
       "Turkmenistan            4440         5110     ...              6500   \n",
       "Uzbekistan              2370         2450     ...              3070   \n",
       "\n",
       "                 2006_income  2007_income  2008_income  2009_income  \\\n",
       "country                                                               \n",
       "Armenia                 6110         7010         7560         6530   \n",
       "Azerbaijan             10700        13200        14400        15400   \n",
       "Belarus                12400        13500        15000        15000   \n",
       "Kazakhstan             17500        18900        19300        19000   \n",
       "Kyrgyz Republic         2420         2600         2790         2840   \n",
       "Moldova                 3480         3590         3880         3650   \n",
       "Russia                 21000        22800        24000        22100   \n",
       "Tajikistan              1790         1890         1990         2020   \n",
       "Turkmenistan            7130         7820         8850         9250   \n",
       "Uzbekistan              3250         3530         3780         4020   \n",
       "\n",
       "                 2010_income  2011_income  2012_income  2013_income  \\\n",
       "country                                                               \n",
       "Armenia                 6700         7020         7510         7730   \n",
       "Azerbaijan             16000        15800        15900        16600   \n",
       "Belarus                16200        17200        17500        17700   \n",
       "Kazakhstan             20100        21300        22000        23000   \n",
       "Kyrgyz Republic         2790         2920         2870         3120   \n",
       "Moldova                 3910         4180         4150         4540   \n",
       "Russia                 23100        24100        24900        25100   \n",
       "Tajikistan              2110         2210         2320         2440   \n",
       "Turkmenistan            9940        11200        12200        13200   \n",
       "Uzbekistan              4240         4470         4770         5070   \n",
       "\n",
       "                 2014_income  \n",
       "country                       \n",
       "Armenia                 7970  \n",
       "Azerbaijan             16700  \n",
       "Belarus                17900  \n",
       "Kazakhstan             23600  \n",
       "Kyrgyz Republic         3180  \n",
       "Moldova                 4760  \n",
       "Russia                 24900  \n",
       "Tajikistan              2550  \n",
       "Turkmenistan           14300  \n",
       "Uzbekistan              5370  \n",
       "\n",
       "[10 rows x 25 columns]"
      ]
     },
     "execution_count": 125,
     "metadata": {},
     "output_type": "execute_result"
    }
   ],
   "source": [
    "anos_income_urss= data.iloc[:,216:241]\n",
    "anos_income_urss= anos_income_urss.loc[('Armenia', 'Azerbaijan', 'Belarus', 'Kazakhstan', 'Kyrgyz Republic', 'Moldova', 'Russia', 'Tajikistan', 'Turkmenistan', 'Uzbekistan'),:]\n",
    "anos_income_urss"
   ]
  },
  {
   "cell_type": "code",
   "execution_count": 126,
   "metadata": {},
   "outputs": [
    {
     "data": {
      "text/html": [
       "<div>\n",
       "<style scoped>\n",
       "    .dataframe tbody tr th:only-of-type {\n",
       "        vertical-align: middle;\n",
       "    }\n",
       "\n",
       "    .dataframe tbody tr th {\n",
       "        vertical-align: top;\n",
       "    }\n",
       "\n",
       "    .dataframe thead th {\n",
       "        text-align: right;\n",
       "    }\n",
       "</style>\n",
       "<table border=\"1\" class=\"dataframe\">\n",
       "  <thead>\n",
       "    <tr style=\"text-align: right;\">\n",
       "      <th></th>\n",
       "      <th>1991_idh</th>\n",
       "      <th>1992_idh</th>\n",
       "      <th>1993_idh</th>\n",
       "      <th>1994_idh</th>\n",
       "      <th>1995_idh</th>\n",
       "      <th>1996_idh</th>\n",
       "      <th>1997_idh</th>\n",
       "      <th>1998_idh</th>\n",
       "      <th>1999_idh</th>\n",
       "      <th>2000_idh</th>\n",
       "      <th>...</th>\n",
       "      <th>2006_idh</th>\n",
       "      <th>2007_idh</th>\n",
       "      <th>2008_idh</th>\n",
       "      <th>2009_idh</th>\n",
       "      <th>2010_idh</th>\n",
       "      <th>2011_idh</th>\n",
       "      <th>2012_idh</th>\n",
       "      <th>2013_idh</th>\n",
       "      <th>2014_idh</th>\n",
       "      <th>2015_idh</th>\n",
       "    </tr>\n",
       "    <tr>\n",
       "      <th>country</th>\n",
       "      <th></th>\n",
       "      <th></th>\n",
       "      <th></th>\n",
       "      <th></th>\n",
       "      <th></th>\n",
       "      <th></th>\n",
       "      <th></th>\n",
       "      <th></th>\n",
       "      <th></th>\n",
       "      <th></th>\n",
       "      <th></th>\n",
       "      <th></th>\n",
       "      <th></th>\n",
       "      <th></th>\n",
       "      <th></th>\n",
       "      <th></th>\n",
       "      <th></th>\n",
       "      <th></th>\n",
       "      <th></th>\n",
       "      <th></th>\n",
       "      <th></th>\n",
       "    </tr>\n",
       "  </thead>\n",
       "  <tbody>\n",
       "    <tr>\n",
       "      <th>Armenia</th>\n",
       "      <td>0.628</td>\n",
       "      <td>0.595</td>\n",
       "      <td>0.593</td>\n",
       "      <td>0.597</td>\n",
       "      <td>0.603</td>\n",
       "      <td>0.609</td>\n",
       "      <td>0.618</td>\n",
       "      <td>0.632</td>\n",
       "      <td>0.639</td>\n",
       "      <td>0.644</td>\n",
       "      <td>...</td>\n",
       "      <td>0.707</td>\n",
       "      <td>0.721</td>\n",
       "      <td>0.725</td>\n",
       "      <td>0.720</td>\n",
       "      <td>0.729</td>\n",
       "      <td>0.732</td>\n",
       "      <td>0.736</td>\n",
       "      <td>0.739</td>\n",
       "      <td>0.741</td>\n",
       "      <td>0.743</td>\n",
       "    </tr>\n",
       "    <tr>\n",
       "      <th>Azerbaijan</th>\n",
       "      <td>NaN</td>\n",
       "      <td>NaN</td>\n",
       "      <td>NaN</td>\n",
       "      <td>NaN</td>\n",
       "      <td>0.609</td>\n",
       "      <td>0.610</td>\n",
       "      <td>0.615</td>\n",
       "      <td>0.626</td>\n",
       "      <td>0.636</td>\n",
       "      <td>0.642</td>\n",
       "      <td>...</td>\n",
       "      <td>0.708</td>\n",
       "      <td>0.719</td>\n",
       "      <td>0.728</td>\n",
       "      <td>0.737</td>\n",
       "      <td>0.741</td>\n",
       "      <td>0.742</td>\n",
       "      <td>0.745</td>\n",
       "      <td>0.752</td>\n",
       "      <td>0.758</td>\n",
       "      <td>0.759</td>\n",
       "    </tr>\n",
       "    <tr>\n",
       "      <th>Belarus</th>\n",
       "      <td>NaN</td>\n",
       "      <td>NaN</td>\n",
       "      <td>NaN</td>\n",
       "      <td>NaN</td>\n",
       "      <td>0.655</td>\n",
       "      <td>0.659</td>\n",
       "      <td>0.666</td>\n",
       "      <td>0.670</td>\n",
       "      <td>0.675</td>\n",
       "      <td>0.681</td>\n",
       "      <td>...</td>\n",
       "      <td>0.739</td>\n",
       "      <td>0.755</td>\n",
       "      <td>0.771</td>\n",
       "      <td>0.780</td>\n",
       "      <td>0.787</td>\n",
       "      <td>0.793</td>\n",
       "      <td>0.796</td>\n",
       "      <td>0.796</td>\n",
       "      <td>0.798</td>\n",
       "      <td>0.796</td>\n",
       "    </tr>\n",
       "    <tr>\n",
       "      <th>Kazakhstan</th>\n",
       "      <td>0.684</td>\n",
       "      <td>0.682</td>\n",
       "      <td>0.676</td>\n",
       "      <td>0.668</td>\n",
       "      <td>0.665</td>\n",
       "      <td>0.666</td>\n",
       "      <td>0.670</td>\n",
       "      <td>0.672</td>\n",
       "      <td>0.676</td>\n",
       "      <td>0.685</td>\n",
       "      <td>...</td>\n",
       "      <td>0.754</td>\n",
       "      <td>0.758</td>\n",
       "      <td>0.758</td>\n",
       "      <td>0.763</td>\n",
       "      <td>0.766</td>\n",
       "      <td>0.774</td>\n",
       "      <td>0.782</td>\n",
       "      <td>0.789</td>\n",
       "      <td>0.793</td>\n",
       "      <td>0.794</td>\n",
       "    </tr>\n",
       "    <tr>\n",
       "      <th>Kyrgyz Republic</th>\n",
       "      <td>0.609</td>\n",
       "      <td>0.599</td>\n",
       "      <td>0.586</td>\n",
       "      <td>0.568</td>\n",
       "      <td>0.562</td>\n",
       "      <td>0.567</td>\n",
       "      <td>0.576</td>\n",
       "      <td>0.580</td>\n",
       "      <td>0.586</td>\n",
       "      <td>0.593</td>\n",
       "      <td>...</td>\n",
       "      <td>0.618</td>\n",
       "      <td>0.624</td>\n",
       "      <td>0.629</td>\n",
       "      <td>0.631</td>\n",
       "      <td>0.632</td>\n",
       "      <td>0.638</td>\n",
       "      <td>0.647</td>\n",
       "      <td>0.656</td>\n",
       "      <td>0.662</td>\n",
       "      <td>0.664</td>\n",
       "    </tr>\n",
       "    <tr>\n",
       "      <th>Moldova</th>\n",
       "      <td>0.641</td>\n",
       "      <td>0.621</td>\n",
       "      <td>0.619</td>\n",
       "      <td>0.596</td>\n",
       "      <td>0.594</td>\n",
       "      <td>0.591</td>\n",
       "      <td>0.593</td>\n",
       "      <td>0.593</td>\n",
       "      <td>0.595</td>\n",
       "      <td>0.597</td>\n",
       "      <td>...</td>\n",
       "      <td>0.656</td>\n",
       "      <td>0.661</td>\n",
       "      <td>0.668</td>\n",
       "      <td>0.664</td>\n",
       "      <td>0.672</td>\n",
       "      <td>0.679</td>\n",
       "      <td>0.686</td>\n",
       "      <td>0.696</td>\n",
       "      <td>0.701</td>\n",
       "      <td>0.699</td>\n",
       "    </tr>\n",
       "    <tr>\n",
       "      <th>Russia</th>\n",
       "      <td>0.729</td>\n",
       "      <td>0.718</td>\n",
       "      <td>0.710</td>\n",
       "      <td>0.701</td>\n",
       "      <td>0.700</td>\n",
       "      <td>0.701</td>\n",
       "      <td>0.704</td>\n",
       "      <td>0.703</td>\n",
       "      <td>0.709</td>\n",
       "      <td>0.720</td>\n",
       "      <td>...</td>\n",
       "      <td>0.761</td>\n",
       "      <td>0.769</td>\n",
       "      <td>0.776</td>\n",
       "      <td>0.773</td>\n",
       "      <td>0.785</td>\n",
       "      <td>0.792</td>\n",
       "      <td>0.799</td>\n",
       "      <td>0.803</td>\n",
       "      <td>0.805</td>\n",
       "      <td>0.804</td>\n",
       "    </tr>\n",
       "    <tr>\n",
       "      <th>Tajikistan</th>\n",
       "      <td>0.611</td>\n",
       "      <td>0.589</td>\n",
       "      <td>0.571</td>\n",
       "      <td>0.549</td>\n",
       "      <td>0.539</td>\n",
       "      <td>0.522</td>\n",
       "      <td>0.526</td>\n",
       "      <td>0.528</td>\n",
       "      <td>0.529</td>\n",
       "      <td>0.535</td>\n",
       "      <td>...</td>\n",
       "      <td>0.586</td>\n",
       "      <td>0.592</td>\n",
       "      <td>0.601</td>\n",
       "      <td>0.603</td>\n",
       "      <td>0.608</td>\n",
       "      <td>0.613</td>\n",
       "      <td>0.617</td>\n",
       "      <td>0.622</td>\n",
       "      <td>0.625</td>\n",
       "      <td>0.627</td>\n",
       "    </tr>\n",
       "    <tr>\n",
       "      <th>Turkmenistan</th>\n",
       "      <td>NaN</td>\n",
       "      <td>NaN</td>\n",
       "      <td>NaN</td>\n",
       "      <td>NaN</td>\n",
       "      <td>NaN</td>\n",
       "      <td>NaN</td>\n",
       "      <td>NaN</td>\n",
       "      <td>NaN</td>\n",
       "      <td>NaN</td>\n",
       "      <td>NaN</td>\n",
       "      <td>...</td>\n",
       "      <td>NaN</td>\n",
       "      <td>NaN</td>\n",
       "      <td>NaN</td>\n",
       "      <td>NaN</td>\n",
       "      <td>0.665</td>\n",
       "      <td>0.672</td>\n",
       "      <td>0.678</td>\n",
       "      <td>0.683</td>\n",
       "      <td>0.688</td>\n",
       "      <td>0.692</td>\n",
       "    </tr>\n",
       "    <tr>\n",
       "      <th>Uzbekistan</th>\n",
       "      <td>NaN</td>\n",
       "      <td>NaN</td>\n",
       "      <td>NaN</td>\n",
       "      <td>NaN</td>\n",
       "      <td>NaN</td>\n",
       "      <td>NaN</td>\n",
       "      <td>NaN</td>\n",
       "      <td>NaN</td>\n",
       "      <td>NaN</td>\n",
       "      <td>0.594</td>\n",
       "      <td>...</td>\n",
       "      <td>0.631</td>\n",
       "      <td>0.644</td>\n",
       "      <td>0.651</td>\n",
       "      <td>0.657</td>\n",
       "      <td>0.664</td>\n",
       "      <td>0.673</td>\n",
       "      <td>0.681</td>\n",
       "      <td>0.690</td>\n",
       "      <td>0.697</td>\n",
       "      <td>0.701</td>\n",
       "    </tr>\n",
       "  </tbody>\n",
       "</table>\n",
       "<p>10 rows × 25 columns</p>\n",
       "</div>"
      ],
      "text/plain": [
       "                 1991_idh  1992_idh  1993_idh  1994_idh  1995_idh  1996_idh  \\\n",
       "country                                                                       \n",
       "Armenia             0.628     0.595     0.593     0.597     0.603     0.609   \n",
       "Azerbaijan            NaN       NaN       NaN       NaN     0.609     0.610   \n",
       "Belarus               NaN       NaN       NaN       NaN     0.655     0.659   \n",
       "Kazakhstan          0.684     0.682     0.676     0.668     0.665     0.666   \n",
       "Kyrgyz Republic     0.609     0.599     0.586     0.568     0.562     0.567   \n",
       "Moldova             0.641     0.621     0.619     0.596     0.594     0.591   \n",
       "Russia              0.729     0.718     0.710     0.701     0.700     0.701   \n",
       "Tajikistan          0.611     0.589     0.571     0.549     0.539     0.522   \n",
       "Turkmenistan          NaN       NaN       NaN       NaN       NaN       NaN   \n",
       "Uzbekistan            NaN       NaN       NaN       NaN       NaN       NaN   \n",
       "\n",
       "                 1997_idh  1998_idh  1999_idh  2000_idh    ...     2006_idh  \\\n",
       "country                                                    ...                \n",
       "Armenia             0.618     0.632     0.639     0.644    ...        0.707   \n",
       "Azerbaijan          0.615     0.626     0.636     0.642    ...        0.708   \n",
       "Belarus             0.666     0.670     0.675     0.681    ...        0.739   \n",
       "Kazakhstan          0.670     0.672     0.676     0.685    ...        0.754   \n",
       "Kyrgyz Republic     0.576     0.580     0.586     0.593    ...        0.618   \n",
       "Moldova             0.593     0.593     0.595     0.597    ...        0.656   \n",
       "Russia              0.704     0.703     0.709     0.720    ...        0.761   \n",
       "Tajikistan          0.526     0.528     0.529     0.535    ...        0.586   \n",
       "Turkmenistan          NaN       NaN       NaN       NaN    ...          NaN   \n",
       "Uzbekistan            NaN       NaN       NaN     0.594    ...        0.631   \n",
       "\n",
       "                 2007_idh  2008_idh  2009_idh  2010_idh  2011_idh  2012_idh  \\\n",
       "country                                                                       \n",
       "Armenia             0.721     0.725     0.720     0.729     0.732     0.736   \n",
       "Azerbaijan          0.719     0.728     0.737     0.741     0.742     0.745   \n",
       "Belarus             0.755     0.771     0.780     0.787     0.793     0.796   \n",
       "Kazakhstan          0.758     0.758     0.763     0.766     0.774     0.782   \n",
       "Kyrgyz Republic     0.624     0.629     0.631     0.632     0.638     0.647   \n",
       "Moldova             0.661     0.668     0.664     0.672     0.679     0.686   \n",
       "Russia              0.769     0.776     0.773     0.785     0.792     0.799   \n",
       "Tajikistan          0.592     0.601     0.603     0.608     0.613     0.617   \n",
       "Turkmenistan          NaN       NaN       NaN     0.665     0.672     0.678   \n",
       "Uzbekistan          0.644     0.651     0.657     0.664     0.673     0.681   \n",
       "\n",
       "                 2013_idh  2014_idh  2015_idh  \n",
       "country                                        \n",
       "Armenia             0.739     0.741     0.743  \n",
       "Azerbaijan          0.752     0.758     0.759  \n",
       "Belarus             0.796     0.798     0.796  \n",
       "Kazakhstan          0.789     0.793     0.794  \n",
       "Kyrgyz Republic     0.656     0.662     0.664  \n",
       "Moldova             0.696     0.701     0.699  \n",
       "Russia              0.803     0.805     0.804  \n",
       "Tajikistan          0.622     0.625     0.627  \n",
       "Turkmenistan        0.683     0.688     0.692  \n",
       "Uzbekistan          0.690     0.697     0.701  \n",
       "\n",
       "[10 rows x 25 columns]"
      ]
     },
     "execution_count": 126,
     "metadata": {},
     "output_type": "execute_result"
    }
   ],
   "source": [
    "anos_idh_urss= data.iloc[:,1:26]\n",
    "anos_idh_urss= anos_idh_urss.loc[('Armenia', 'Azerbaijan', 'Belarus', 'Kazakhstan', 'Kyrgyz Republic', 'Moldova', 'Russia', 'Tajikistan', 'Turkmenistan', 'Uzbekistan'),:]\n",
    "anos_idh_urss"
   ]
  },
  {
   "cell_type": "markdown",
   "metadata": {},
   "source": [
    "Gráficos de scatter referentes à URSS com os eixos de idh (x) e income (y)."
   ]
  },
  {
   "cell_type": "code",
   "execution_count": 288,
   "metadata": {
    "scrolled": true
   },
   "outputs": [
    {
     "data": {
      "text/plain": [
       "<matplotlib.collections.PathCollection at 0x2568e6dcdd8>"
      ]
     },
     "execution_count": 288,
     "metadata": {},
     "output_type": "execute_result"
    },
    {
     "data": {
      "image/png": "[encoded data removed]",
      "text/plain": [
       "<Figure size 432x288 with 1 Axes>"
      ]
     },
     "metadata": {
      "needs_background": "light"
     },
     "output_type": "display_data"
    }
   ],
   "source": [
    "plt.scatter(anos_idh_urss,anos_income_urss, c='red', alpha=0.7)"
   ]
  },
  {
   "cell_type": "markdown",
   "metadata": {},
   "source": [
    "Por fim, é possível graficar os dados levantados em histogramas que facilitam a compreensão dos resultados."
   ]
  },
  {
   "cell_type": "code",
   "execution_count": 296,
   "metadata": {
    "scrolled": false
   },
   "outputs": [
    {
     "data": {
      "image/png": "[encoded data removed]",
      "text/plain": [
       "<Figure size 648x648 with 2 Axes>"
      ]
     },
     "metadata": {
      "needs_background": "light"
     },
     "output_type": "display_data"
    }
   ],
   "source": [
    "faixa = range(10,40000,1500)\n",
    "\n",
    "fig = plt.figure(figsize=(9, 9))\n",
    "plt.subplot(221)\n",
    "\n",
    "income_urss['1990_income'].plot.hist(bins=faixa,title='HISTOGRAMA - income(US$) urss(1990)', density=True, color=('red'))\n",
    "\n",
    "\n",
    "plt.subplot(222)\n",
    "income_urss['2015_income'].plot.hist(bins=faixa,title='HISTOGRAMA - income(US$) urss-2015', density=True, color=('yellow'))\n",
    "\n",
    "plt.tight_layout()\n",
    "plt.show()"
   ]
  },
  {
   "cell_type": "markdown",
   "metadata": {},
   "source": [
    "O histograma da esquerda apresenta o income dos ex-membros da URSS em 1990, e na direita, em 2015.\n",
    "\n",
    "Como é evidente, o gráfico da direita possui as barras um pouco deslocadas para a direita (indicando crescimento econômico quando comparado com o ano anterior).\n",
    "\n",
    "Para facilitar a vizualização, um histograma que une os dois dados foi disponibilizado abaixo, confirmando a afirmação acima. "
   ]
  },
  {
   "cell_type": "code",
   "execution_count": 293,
   "metadata": {
    "scrolled": false
   },
   "outputs": [
    {
     "data": {
      "text/plain": [
       "<matplotlib.axes._subplots.AxesSubplot at 0x2568ef37d30>"
      ]
     },
     "execution_count": 293,
     "metadata": {},
     "output_type": "execute_result"
    },
    {
     "data": {
      "image/png": "[encoded data removed]",
      "text/plain": [
       "<Figure size 432x288 with 1 Axes>"
      ]
     },
     "metadata": {
      "needs_background": "light"
     },
     "output_type": "display_data"
    }
   ],
   "source": [
    "faixa = range(10,40000,1500)\n",
    "\n",
    "income_urss.plot.hist(bins=faixa,title='HISTOGRAMA - income eu (US$)', density=True, color=('red','yellow'))"
   ]
  },
  {
   "cell_type": "markdown",
   "metadata": {},
   "source": [
    "A seguir, o mesmo procedimento será realizado com o indicador de IDH."
   ]
  },
  {
   "cell_type": "markdown",
   "metadata": {},
   "source": [
    "Os histogramas apresentados, conferem maior facilidade para vizualisar o comportamento do Income e do IDH em cada um dos casos, para os ex-membros da URSS.\n",
    "A seguir, a união dos dois histogramas para facilitar a comparação dos resultados."
   ]
  },
  {
   "cell_type": "markdown",
   "metadata": {},
   "source": [
    "## Conclusão"
   ]
  },
  {
   "cell_type": "markdown",
   "metadata": {},
   "source": [
    "Com base no apresentado, é possível concluir que a hipótese inicialmente feita estava correta. De fato, o fim da URSS foi positiva do ponto de vista econômico e social para os países que eram membros.\n",
    "Não só a saída trouxe crescimento econômico e melhora nos indicadores sociais (IDH), como também trouxe competitividade para a CEI no cenário internacional, visto que cresceu mais em renda per capita do que países referência em desenvolvimento para todo o mundo, 6% mais do que a União Europeia, percentualmente.\n",
    "Dessa forma, o protecionismo econômico que era pregado pela URSS provou certa inferioridade de desenvolvimento quando comparada com a relativa liberalização econômica que teve início com o fim da URSS. Como citado anteriormente, o crescimento econômico é o principal fator para o desenvolvimento, também, dos outros setores sociais, pois a confiança do mercado nos países retorna e com isso, aumentam os investimentos que, consequentemente, melhoram a condição de vida da população.\n",
    "O ano seguinte da queda do Muro de Berlim e o ano anterior ao fim da URSS, 1990, apresentavam indicadores muito piores do que os de 2015. \n",
    "Com o processo de liberalização da economia, a renda per capita no período de 25 anos, aumentou em 34%, enquanto o IDH cresceu aproximadamente 10%. Com o retorno dos investimentos, como citado anteriormente, os outros indicadores sociais, como o IDH tendem a acompanhar, ou até mesmo ultrapassar, o crescimento do IDH de países de referência, como os membros da UE, que no mesmo período de 25 anos (1990-2015), tiveram um aumento de 14%. "
   ]
  }
 ],
 "metadata": {
  "kernelspec": {
   "display_name": "Python 3",
   "language": "python",
   "name": "python3"
  },
  "language_info": {
   "codemirror_mode": {
    "name": "ipython",
    "version": 3
   },
   "file_extension": ".py",
   "mimetype": "text/x-python",
   "name": "python",
   "nbconvert_exporter": "python",
   "pygments_lexer": "ipython3",
   "version": "3.7.1"
  }
 },
 "nbformat": 4,
 "nbformat_minor": 2
}
